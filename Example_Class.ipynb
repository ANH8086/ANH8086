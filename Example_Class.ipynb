{
 "cells": [
  {
   "cell_type": "code",
   "execution_count": null,
   "metadata": {},
   "outputs": [],
   "source": []
  },
  {
   "cell_type": "markdown",
   "metadata": {},
   "source": [
    "## Simple class examples"
   ]
  },
  {
   "cell_type": "markdown",
   "metadata": {},
   "source": [
    "Below are two classes - One to create a Robot, another to create a Person <br>"
   ]
  },
  {
   "cell_type": "code",
   "execution_count": 32,
   "metadata": {},
   "outputs": [],
   "source": [
    "class Person:\n",
    "    def __init__(self,name,personality,is_sitting):\n",
    "        # This is to set up the basic variables\n",
    "        self.name = name\n",
    "        self.personality = personality\n",
    "        self.is_sitting = is_sitting\n",
    "    \n",
    "    def sit_down(self):\n",
    "        self.is_sitting = True\n",
    "    \n",
    "    def stand_up(self):\n",
    "        self.is_sitting = False\n",
    "\n",
    "    def introduce_self(self):\n",
    "        print('Name: ' + self.name, 'Sitting: ' + str(self.is_sitting))"
   ]
  },
  {
   "cell_type": "code",
   "execution_count": 23,
   "metadata": {},
   "outputs": [],
   "source": [
    "class Robot:\n",
    "    def __init__(self, name, color, weight):\n",
    "        self.name = name\n",
    "        self.color = color\n",
    "        self.weight = weight\n",
    "    \n",
    "    def introduce_self(self):\n",
    "        print('My name is ' + self.name)\n",
    "\n"
   ]
  },
  {
   "cell_type": "code",
   "execution_count": 42,
   "metadata": {},
   "outputs": [],
   "source": [
    "# Create two robots\n",
    "\n",
    "r1 = Robot('Tom', 'red', 30)\n",
    "r2 = Robot('Jerry', 'blue', 40)"
   ]
  },
  {
   "cell_type": "code",
   "execution_count": 43,
   "metadata": {},
   "outputs": [
    {
     "name": "stdout",
     "output_type": "stream",
     "text": [
      "My name is Tom\n"
     ]
    }
   ],
   "source": [
    "# 'Introduce' Robot 1 (r1)\n",
    "r1.introduce_self()"
   ]
  },
  {
   "cell_type": "code",
   "execution_count": 44,
   "metadata": {},
   "outputs": [],
   "source": [
    "# Create two people\n",
    "p1 = Person('Alice', 'aggressive', False)\n",
    "p2 = Person('Becky', 'talkative', True)\n"
   ]
  },
  {
   "cell_type": "code",
   "execution_count": 45,
   "metadata": {},
   "outputs": [],
   "source": [
    "# Set the ownership of the robots to the various people\n",
    "p1.robot_owned = r2\n",
    "p2.robot_owned = r1"
   ]
  },
  {
   "cell_type": "code",
   "execution_count": 46,
   "metadata": {},
   "outputs": [
    {
     "name": "stdout",
     "output_type": "stream",
     "text": [
      "My name is Jerry\n"
     ]
    }
   ],
   "source": [
    "# This is saying p1 owns r2 (from above) and uses introduce_self of r2\n",
    "p1.robot_owned.introduce_self()"
   ]
  },
  {
   "cell_type": "code",
   "execution_count": 47,
   "metadata": {},
   "outputs": [],
   "source": [
    "# Change the state (if standing) of person 1 to sitting\n",
    "p1.sit_down()"
   ]
  },
  {
   "cell_type": "code",
   "execution_count": 41,
   "metadata": {},
   "outputs": [
    {
     "name": "stdout",
     "output_type": "stream",
     "text": [
      "Name: Alice Sitting: True\n"
     ]
    }
   ],
   "source": [
    "p1.introduce_self()"
   ]
  },
  {
   "cell_type": "code",
   "execution_count": 48,
   "metadata": {},
   "outputs": [],
   "source": [
    "# Change the state (if sitting) of person 1 to standing\n",
    "p1.stand_up()"
   ]
  },
  {
   "cell_type": "code",
   "execution_count": 49,
   "metadata": {},
   "outputs": [
    {
     "name": "stdout",
     "output_type": "stream",
     "text": [
      "Name: Alice Sitting: False\n"
     ]
    }
   ],
   "source": [
    "p1.introduce_self()"
   ]
  },
  {
   "cell_type": "markdown",
   "metadata": {},
   "source": [
    "## Using OpenCV to draw on the screen\n",
    "Maybe use this as the basis to create classes for the schematics"
   ]
  },
  {
   "cell_type": "code",
   "execution_count": 2,
   "metadata": {},
   "outputs": [],
   "source": [
    "import cv2 as cv\n",
    "import numpy as np"
   ]
  },
  {
   "cell_type": "code",
   "execution_count": 3,
   "metadata": {},
   "outputs": [],
   "source": [
    "img = np.zeros((600,900,3), dtype=np.uint8)"
   ]
  },
  {
   "cell_type": "code",
   "execution_count": 4,
   "metadata": {},
   "outputs": [],
   "source": [
    "# Background\n",
    "# Draw a rectangle(image window, (x1,y1),(x2,y2),(b,g,r), fill rectangle )\n",
    "cv.rectangle(img, (0,0),(900,500),(255,225,85), -1)\n",
    "cv.rectangle(img, (0,500),(900,600),(75,180,70), -1)\n",
    "\n",
    "# Sun\n",
    "cv.circle(img, (200,150), 60, (0, 255, 255), -1)\n",
    "\n",
    "# tree stem\n",
    "cv.line(img, (600,500), (600,420), (30,65,155), 25)\n",
    "\n",
    "#triangle leafs\n",
    "triangle = np.array([[500,440],[700,440], [600,75]], dtype = np.int32)\n",
    "cv.fillPoly(img, [triangle], (75,180,70))\n",
    "\n",
    "# text\n",
    "font = cv.FONT_HERSHEY_SCRIPT_SIMPLEX\n",
    "\n",
    "#  (image window, text to write, where to start, font to use, scale (150%), colour, line thickness)\n",
    "cv.putText(img, \"Nice Tree\", (120,490), font, 1.5, (255,255,255), 2)\n",
    "\n",
    "cv.imshow(\"tree\", img)\n",
    "cv.waitKey(0)\n",
    "cv.destroyAllWindows()"
   ]
  },
  {
   "cell_type": "code",
   "execution_count": null,
   "metadata": {},
   "outputs": [],
   "source": []
  },
  {
   "cell_type": "markdown",
   "metadata": {},
   "source": [
    "## Classes and OOP\n",
    "\n",
    "https://www.youtube.com/watch?v=-LsuiVGO-88\n",
    "<br>"
   ]
  },
  {
   "cell_type": "code",
   "execution_count": 1,
   "metadata": {},
   "outputs": [],
   "source": [
    "import numpy as np\n",
    "import cv2 as cv\n",
    "import random\n"
   ]
  },
  {
   "cell_type": "code",
   "execution_count": 2,
   "metadata": {},
   "outputs": [],
   "source": [
    "# General Parameters\n",
    "width = 900\n",
    "height = 600\n",
    "n_trees = 30\n",
    "ground_level = height - 100\n",
    "\n",
    "# #Colours (in the form blue, green, red)\n",
    "sky_blue = (255,225,95)\n",
    "# green = (40,185,40)\n",
    "# light_green = (25,220,0)\n",
    "# brown = (30,65,155)\n"
   ]
  },
  {
   "cell_type": "code",
   "execution_count": 3,
   "metadata": {},
   "outputs": [],
   "source": [
    "# Blank Image \n",
    "bg= np.zeros((height, width, 3), dtype = np.uint8)\n",
    "\n",
    "# Draw the Background\n",
    "# Draw a rectangle(image window, (x1,y1),(x2,y2),(b,g,r), fill rectangle)\n",
    "cv.rectangle(bg,(width,0), (0, ground_level), sky_blue, -1)\n",
    "cv.rectangle(bg,(width,ground_level), (0, height), (70,160,75), -1)\n",
    "\n",
    "\n",
    "#===========================================================================================\n",
    "\n",
    "class Tree:\n",
    "    \n",
    "    def __init__(self, image):\n",
    "    #def __init__(self, image, location):\n",
    "        self.img = image\n",
    "        #self.loc = location\n",
    "        self.loc = int(np.random.choice(range(900), 1))\n",
    "        self.ht = int(np.random.choice(range(200, 350), 1))\n",
    "        self.radius = 50\n",
    "        self.scale = np.random.choice(np.linspace(0.6,2.5, num = 8),1)\n",
    "\n",
    "    def generate_colours(self):\n",
    "        green = (0,random.randint(130,200),0)\n",
    "        light_green = (35,random.randint(200,250),35)\n",
    "        brown = random.choice([(2,30,85), (5,55,120), (0,70,140)])\n",
    "        return green, light_green, brown\n",
    "\n",
    "\n",
    "    def draw(self):\n",
    "        \n",
    "        small_radius = int(self.radius * self.scale -20 * self.scale)\n",
    "        green, light_green, brown = self.generate_colours()\n",
    "\n",
    "    \n",
    "        # Leaves\n",
    "        cv.circle(self.img, (self.loc, ground_level-self.ht), int(self.radius * self.scale), green, -1)\n",
    "        cv.circle(self.img, (self.loc -int(45 * self.scale), ground_level-self.ht+small_radius), small_radius, green, -1)\n",
    "        cv.circle(self.img, (self.loc +int(45 * self.scale), ground_level-self.ht+small_radius), small_radius, green, -1)\n",
    "\n",
    "        # Trunk\n",
    "        cv.line(self.img, (self.loc,ground_level), (self.loc, ground_level-self.ht),brown,int(20 * self.scale)) # Using self.loc for x1 and x2 as we need a vertical line at that location\n",
    "        cv.line(self.img, (self.loc,ground_level-self.ht+int(75 * self.scale)), (self.loc +int(45 * self.scale), ground_level-self.ht+small_radius),brown, int(5 * self.scale))\n",
    "        cv.line(self.img, (self.loc,ground_level-self.ht+int(75 * self.scale)), (self.loc -int(45 * self.scale), ground_level-self.ht+small_radius),brown, int(5 * self.scale))\n",
    "\n",
    "\n",
    "        # Highlight the leafs\n",
    "        cv.circle(self.img, (self.loc, ground_level-self.ht), int(self.radius * self.scale) - int(10 * self.scale), light_green, -1)\n",
    "        cv.circle(self.img, (self.loc -int(45 * self.scale), ground_level-self.ht+small_radius), small_radius - int(10 * self.scale), light_green, -1)\n",
    "        cv.circle(self.img, (self.loc +int(45 * self.scale), ground_level-self.ht+small_radius), small_radius - int(10 * self.scale), light_green, -1)\n",
    "\n",
    "        return self.img\n",
    "\n",
    "\n",
    "\n",
    "\n",
    "#===========================================================================================\n",
    "# Display the image\n",
    "\n",
    "for i in range(n_trees):\n",
    "    img = Tree(bg).draw()    # Tree(the img, start pos * 1 to 30 (in the range) * 200 (the number of pixels seperation))\n",
    "\n",
    "\n",
    "cv.imshow('forest of objects', img)\n",
    "\n",
    "\n",
    "# Press any key to destroy the window\n",
    "cv.waitKey(0)\n",
    "cv.destroyAllWindows()"
   ]
  },
  {
   "cell_type": "code",
   "execution_count": null,
   "metadata": {},
   "outputs": [],
   "source": []
  },
  {
   "cell_type": "code",
   "execution_count": null,
   "metadata": {},
   "outputs": [],
   "source": []
  },
  {
   "cell_type": "code",
   "execution_count": null,
   "metadata": {},
   "outputs": [],
   "source": []
  },
  {
   "cell_type": "code",
   "execution_count": null,
   "metadata": {},
   "outputs": [],
   "source": []
  },
  {
   "cell_type": "code",
   "execution_count": null,
   "metadata": {},
   "outputs": [],
   "source": []
  }
 ],
 "metadata": {
  "interpreter": {
   "hash": "57964bf3d1eef2ec5b841a0e72d4cca165e5f18adbd3cad6895cefcdaa22b61e"
  },
  "kernelspec": {
   "display_name": "Python 3.7.10 ('ANH')",
   "language": "python",
   "name": "python3"
  },
  "language_info": {
   "codemirror_mode": {
    "name": "ipython",
    "version": 3
   },
   "file_extension": ".py",
   "mimetype": "text/x-python",
   "name": "python",
   "nbconvert_exporter": "python",
   "pygments_lexer": "ipython3",
   "version": "3.7.9"
  },
  "orig_nbformat": 4
 },
 "nbformat": 4,
 "nbformat_minor": 2
}
